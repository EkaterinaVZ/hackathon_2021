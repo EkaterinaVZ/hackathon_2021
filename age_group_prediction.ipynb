{
  "nbformat": 4,
  "nbformat_minor": 0,
  "metadata": {
    "accelerator": "GPU",
    "colab": {
      "name": "predict-age-multi-class-image-classification.ipynb",
      "provenance": [],
      "collapsed_sections": []
    },
    "kernelspec": {
      "display_name": "Python 3",
      "language": "python",
      "name": "python3"
    },
    "language_info": {
      "codemirror_mode": {
        "name": "ipython",
        "version": 3
      },
      "file_extension": ".py",
      "mimetype": "text/x-python",
      "name": "python",
      "nbconvert_exporter": "python",
      "pygments_lexer": "ipython3",
      "version": "3.6.4"
    }
  },
  "cells": [
    {
      "cell_type": "markdown",
      "metadata": {
        "id": "lYcNudRKPJmm"
      },
      "source": [
        "# Neural networks basics"
      ]
    },
    {
      "cell_type": "markdown",
      "metadata": {
        "id": "BTvA1uY_PXUB"
      },
      "source": [
        "## 101\n",
        "\n",
        "* Basics\n",
        "\n",
        "https://towardsdatascience.com/comprehensive-introduction-to-neural-network-architecture-c08c6d8e5d98\n",
        "\n",
        "## Theory and some math\n",
        "\n",
        "\n",
        "*   Activation\n",
        "\n",
        "https://towardsdatascience.com/7-popular-activation-functions-you-should-know-in-deep-learning-and-how-to-use-them-with-keras-and-27b4d838dfe6\n",
        "\n",
        "* Loss\n",
        "\n",
        "https://neptune.ai/blog/keras-loss-functions\n",
        "\n",
        "* Epochs\n",
        "\n",
        "https://towardsdatascience.com/epoch-vs-iterations-vs-batch-size-4dfb9c7ce9c9\n",
        "\n",
        "* Optimization\n",
        "\n",
        "https://towardsdatascience.com/neural-network-optimization-7ca72d4db3e0\n",
        "\n",
        "https://machinelearningmastery.com/recommendations-for-deep-learning-neural-network-practitioners/\n",
        "\n",
        "## Problems\n",
        "\n",
        "* Why test/train splitting matters\n",
        "\n",
        "https://towardsdatascience.com/how-to-split-a-tensorflow-dataset-into-train-validation-and-test-sets-526c8dd29438\n",
        "\n",
        "* Different image size\n",
        "\n",
        "https://stackoverflow.com/questions/47929557/tensorflow-cnn-training-images-are-all-different-sizes\n",
        "\n",
        "* Fitting epochs and batch size pars \n",
        "\n",
        "https://medium.com/@elimu.michael9/understanding-epochs-and-batches-23120a04b3cb\n"
      ]
    },
    {
      "cell_type": "markdown",
      "metadata": {
        "id": "z4O1GYYultwK"
      },
      "source": [
        "* **Why optimization = Adam?**\n",
        "\n",
        "\n",
        "\n",
        "\n",
        "Adam is a combination of RMSprop and momentum (similarly, Nadam refers to a combination of RMSprop and Nesterov momentum). Adam refers to adaptive moment estimation, and it is the most popular optimizer used for neural networks today.\n",
        "\n",
        "Adam computes adaptive learning rates for each parameter. In addition to storing an exponentially decaying average of past squared gradients vt like Adadelta and RMSprop, Adam also keeps an exponentially decaying average of past gradients, similar to momentum.\n"
      ]
    },
    {
      "cell_type": "markdown",
      "metadata": {
        "id": "DofoQFg-99ZU"
      },
      "source": [
        "# Imports"
      ]
    },
    {
      "cell_type": "code",
      "metadata": {
        "id": "88hJhZZ499ZW"
      },
      "source": [
        "import numpy as np \n",
        "import pandas as pd \n",
        "import matplotlib.pyplot as plt\n",
        "\n",
        "import random\n",
        "import itertools\n",
        "\n",
        "\n",
        "from shutil import copyfile, rmtree\n",
        "from pathlib import Path\n",
        "\n",
        "\n",
        "from glob import glob\n",
        "\n",
        "import os\n",
        "# for dirname, _, filenames in os.walk('/kaggle/input/facial-age/face_age'):\n",
        "#     print (dirname)\n",
        "#     for filename in filenames:\n",
        "#         print(os.path.join(dirname, filename))\n",
        "\n",
        "\n",
        "from tensorflow.keras.layers import Input, Lambda, Dense, Flatten\n",
        "from tensorflow.keras.models import Model\n",
        "from tensorflow.keras.applications.resnet50 import ResNet50, preprocess_input\n",
        "from tensorflow.keras.preprocessing import image\n",
        "from tensorflow.keras.preprocessing.image import ImageDataGenerator\n",
        "\n",
        "from sklearn.metrics import confusion_matrix\n"
      ],
      "execution_count": 1,
      "outputs": []
    },
    {
      "cell_type": "markdown",
      "metadata": {
        "id": "TDGg0NdgOv21"
      },
      "source": [
        "# Dataset download"
      ]
    },
    {
      "cell_type": "code",
      "metadata": {
        "id": "Q7w3V5mPFWDG"
      },
      "source": [
        "# remove and recreate dirs\n",
        "\n",
        "!rm -rf /content/archives\n",
        "!mkdir /content/archives\n",
        "!rm -rf /content/raw_image_files\n",
        "!mkdir /content/raw_image_files"
      ],
      "execution_count": 2,
      "outputs": []
    },
    {
      "cell_type": "code",
      "metadata": {
        "id": "gNLF4Kr8C1IH"
      },
      "source": [
        "dataset_main_dir = 'https://github.com/Somertonman/hackathon/raw/main/dataset/'\n",
        "\n",
        "masks_archives = [\n",
        "                  'mask_001_018.zip',\n",
        "                  'mask_019_065.zip',\n",
        "                  'mask_066_110.zip'\n",
        "                  ]\n",
        "\n",
        "no_masks_archives = [\n",
        "                  'nomask_001_018.zip',\n",
        "                  'nomask_019_065.zip',\n",
        "                  'nomask_066_110.zip'\n",
        "                  ]"
      ],
      "execution_count": 3,
      "outputs": []
    },
    {
      "cell_type": "code",
      "metadata": {
        "id": "gQmSBoPwGQX0"
      },
      "source": [
        "# download files\n",
        "\n",
        "%%capture \n",
        "for arc in masks_archives + no_masks_archives:\n",
        "  path = dataset_main_dir + arc\n",
        "  !wget $path -O /content/archives/$arc"
      ],
      "execution_count": 4,
      "outputs": []
    },
    {
      "cell_type": "code",
      "metadata": {
        "id": "O0AU65TdDs6X"
      },
      "source": [
        "# unarchive to /content/raw_image_files\n",
        "\n",
        "#%%capture \n",
        "for arc in masks_archives + no_masks_archives:\n",
        "  path = dataset_main_dir + arc\n",
        "  !unzip -o -q /content/archives/$arc -d /content/raw_image_files"
      ],
      "execution_count": 5,
      "outputs": []
    },
    {
      "cell_type": "markdown",
      "metadata": {
        "id": "dlUY40yzNVzX"
      },
      "source": [
        "# Dataset analysis"
      ]
    },
    {
      "cell_type": "code",
      "metadata": {
        "id": "cRJfAfqwSK-q"
      },
      "source": [
        "RAW_FILES_DIR = '/content/raw_image_files/'\n",
        "\n",
        "folders = glob(RAW_FILES_DIR + '*')"
      ],
      "execution_count": 6,
      "outputs": []
    },
    {
      "cell_type": "code",
      "metadata": {
        "colab": {
          "base_uri": "https://localhost:8080/",
          "height": 513
        },
        "id": "yFFimYI799ZY",
        "outputId": "358132f7-b330-4878-fe7a-fff27de0df35"
      },
      "source": [
        "raw_stat = {}\n",
        "\n",
        "for dirname in folders:\n",
        "    raw_stat[dirname.rsplit('/')[-1]] = len(os.listdir(dirname))\n",
        "\n",
        "del(raw_stat['__MACOSX'])\n",
        "print ('Possible ages:')\n",
        "ages_dict = dict(sorted(raw_stat.items()))\n",
        "\n",
        "plt.figure(figsize=(20, 10))\n",
        "plt.bar(list(ages_dict.keys()), list(ages_dict.values()))\n",
        "plt.xlabel(\"Category\")\n",
        "plt.ylabel(\"Number of files\")"
      ],
      "execution_count": 19,
      "outputs": [
        {
          "output_type": "stream",
          "name": "stdout",
          "text": [
            "Possible ages:\n"
          ]
        },
        {
          "output_type": "execute_result",
          "data": {
            "text/plain": [
              "Text(0, 0.5, 'Number of files')"
            ]
          },
          "metadata": {},
          "execution_count": 19
        },
        {
          "output_type": "display_data",
          "data": {
            "image/png": "[encoded data removed]",
            "text/plain": [
              "<Figure size 1440x720 with 1 Axes>"
            ]
          },
          "metadata": {
            "needs_background": "light"
          }
        }
      ]
    },
    {
      "cell_type": "markdown",
      "metadata": {
        "id": "yxUy0E7rNiyy"
      },
      "source": [
        "# Sampling and grouping to folders"
      ]
    },
    {
      "cell_type": "code",
      "metadata": {
        "id": "OaCQoQ4PNdEm"
      },
      "source": [
        "INPUT_CLASSES_DIR = '/content/facial_age/'\n",
        "\n",
        "folders = glob(INPUT_CLASSES_DIR + '*')"
      ],
      "execution_count": null,
      "outputs": []
    },
    {
      "cell_type": "code",
      "metadata": {
        "id": "FVnu-jAuKmUT"
      },
      "source": [
        "!wget https://www.dropbox.com/s/kq10brbyr35xt31/agegroup.zip"
      ],
      "execution_count": null,
      "outputs": []
    },
    {
      "cell_type": "code",
      "metadata": {
        "id": "Zs78YXTfK-GG"
      },
      "source": [
        "!unzip -q /content/agegroup.zip -d /content/facial_age/"
      ],
      "execution_count": null,
      "outputs": []
    },
    {
      "cell_type": "code",
      "metadata": {
        "id": "fa0RhvE999Za"
      },
      "source": [
        "MIN_COUNT_IN_CLASS = min(age_groups.values())\n",
        "MIN_COUNT_IN_CLASS = 100\n",
        "TRAIN_SAMPLE_SIZE = int(MIN_COUNT_IN_CLASS * 0.85 )\n",
        "TEST_SAMPLE_SIZE = MIN_COUNT_IN_CLASS - TRAIN_SAMPLE_SIZE"
      ],
      "execution_count": null,
      "outputs": []
    },
    {
      "cell_type": "code",
      "metadata": {
        "id": "itCIi2tcL84A"
      },
      "source": [
        "\n",
        "age_groupped_filenames_dict = {}\n",
        "\n",
        "for age_range in age_splits_ranges:\n",
        "    Path(f\"{test_root}/{age_range[0]}-{age_range[-1]}\").mkdir(parents=True, exist_ok=True)\n",
        "    Path(f\"{train_root}/{age_range[0]}-{age_range[-1]}\").mkdir(parents=True, exist_ok=True)\n",
        "    age_groupped_filenames = []\n",
        "    for age in age_range:\n",
        "        full_dirname = INPUT_CLASSES_DIR + age\n",
        "        all_files_in_age_group = glob(full_dirname + '/*')\n",
        "        if len(all_files_in_age_group) >=10:\n",
        "          all_files_in_age_group = random.sample(all_files_in_age_group, 10)\n",
        "        age_groupped_filenames.extend(all_files_in_age_group)\n",
        "    age_groupped_filenames_dict[f'{age_range[0]}-{age_range[-1]}'] = age_groupped_filenames\n",
        "    "
      ],
      "execution_count": null,
      "outputs": []
    },
    {
      "cell_type": "code",
      "metadata": {
        "id": "Ah2PSpV7MFOt"
      },
      "source": [
        "test_root = './test'\n",
        "train_root = './train'\n",
        "\n",
        "rmtree(train_root, ignore_errors=True)\n",
        "rmtree(test_root, ignore_errors=True)\n"
      ],
      "execution_count": null,
      "outputs": []
    },
    {
      "cell_type": "code",
      "metadata": {
        "id": "gysfTpsO99Zb"
      },
      "source": [
        "for age_range in age_groupped_filenames_dict:\n",
        "    age_sample = age_groupped_filenames_dict[age_range]\n",
        "    for f in age_sample:\n",
        "        copyfile(f, f\"{train_root}/{age_range}/{f.split('/')[-1]}\")\n"
      ],
      "execution_count": null,
      "outputs": []
    },
    {
      "cell_type": "code",
      "metadata": {
        "id": "TsNahVkcNoDs"
      },
      "source": [
        "!zip -r filename.zip /content/train\n"
      ],
      "execution_count": null,
      "outputs": []
    },
    {
      "cell_type": "code",
      "metadata": {
        "id": "DtOZnRwF99Zc"
      },
      "source": [
        "# useful for getting number of files\n",
        "train_files = glob(train_root + '/*/*.png')\n",
        "test_files = glob(test_root + '/*/*.png')\n"
      ],
      "execution_count": null,
      "outputs": []
    },
    {
      "cell_type": "code",
      "metadata": {
        "id": "LC3HPaK8hTP7"
      },
      "source": [
        "z = []\n"
      ],
      "execution_count": null,
      "outputs": []
    },
    {
      "cell_type": "code",
      "metadata": {
        "colab": {
          "base_uri": "https://localhost:8080/"
        },
        "id": "1WwsJbAL99Zc",
        "outputId": "3c19311f-c202-4734-a616-36051259c16e"
      },
      "source": [
        "print(len(train_files))\n",
        "print(len(test_files))\n"
      ],
      "execution_count": null,
      "outputs": [
        {
          "name": "stdout",
          "output_type": "stream",
          "text": [
            "255\n",
            "45\n"
          ]
        }
      ]
    },
    {
      "cell_type": "code",
      "metadata": {
        "colab": {
          "base_uri": "https://localhost:8080/",
          "height": 286
        },
        "id": "M5xFvSpJ99Zd",
        "outputId": "2a6d66d2-f07b-4030-9582-4bee05a7bf2e"
      },
      "source": [
        "plt.imshow(image.load_img(np.random.choice(train_files)))"
      ],
      "execution_count": null,
      "outputs": [
        {
          "data": {
            "text/plain": [
              "<matplotlib.image.AxesImage at 0x7f14e19046d0>"
            ]
          },
          "execution_count": 15,
          "metadata": {},
          "output_type": "execute_result"
        },
        {
          "data": {
            "image/png": "[encoded data removed]",
            "text/plain": [
              "<Figure size 432x288 with 1 Axes>"
            ]
          },
          "metadata": {},
          "output_type": "display_data"
        }
      ]
    },
    {
      "cell_type": "code",
      "metadata": {
        "id": "X8E_7zP599Zd"
      },
      "source": [
        "plt.imshow(image.load_img(np.random.choice(test_files)))\n"
      ],
      "execution_count": null,
      "outputs": []
    },
    {
      "cell_type": "markdown",
      "metadata": {
        "id": "-e5R5EaSNsvQ"
      },
      "source": [
        "# Model set up"
      ]
    },
    {
      "cell_type": "code",
      "metadata": {
        "colab": {
          "background_save": true
        },
        "id": "kb5JsfJI99Zd",
        "outputId": "fd1c1b52-2172-4c51-83cd-3a60c2fbf54f"
      },
      "source": [
        "# re-size all the images to this\n",
        "IMAGE_SIZE = [100, 100]\n",
        "\n",
        "# training config:\n",
        "epochs = 20\n",
        "batch_size = 20\n",
        "\n",
        "\n",
        "# resnet base\n",
        "res = ResNet50(\n",
        "input_shape=IMAGE_SIZE + [3], weights='imagenet', include_top=False)\n",
        "\n",
        "# don't train existing weights\n",
        "for layer in res.layers:\n",
        "  layer.trainable = False\n",
        "\n",
        "# our layers - you can add more if you want\n",
        "x = Flatten()(res.output)\n",
        "# x = Dense(1000, activation='relu')(x) # example\n",
        "prediction = Dense(len(folders), activation='softmax')(x)\n",
        "\n",
        "# create a model object\n",
        "model = Model(inputs=res.input, outputs=prediction)\n",
        "# tell the model what cost and optimization method to use\n",
        "model.compile(\n",
        "loss='sparse_categorical_crossentropy',\n",
        "optimizer='adam',\n",
        "metrics=['accuracy'])"
      ],
      "execution_count": null,
      "outputs": [
        {
          "name": "stdout",
          "output_type": "stream",
          "text": [
            "Downloading data from https://storage.googleapis.com/tensorflow/keras-applications/resnet/resnet50_weights_tf_dim_ordering_tf_kernels_notop.h5\n",
            "94773248/94765736 [==============================] - 1s 0us/step\n",
            "94781440/94765736 [==============================] - 1s 0us/step\n"
          ]
        }
      ]
    },
    {
      "cell_type": "code",
      "metadata": {
        "colab": {
          "background_save": true
        },
        "id": "27pV478m99Ze"
      },
      "source": [
        "# create an instance of ImageDataGenerator\n",
        "train_gen = ImageDataGenerator(\n",
        "  rotation_range=20,\n",
        "  width_shift_range=0.1,\n",
        "  height_shift_range=0.1,\n",
        "  shear_range=0.1,\n",
        "  zoom_range=0.2,\n",
        "  horizontal_flip=True,\n",
        "  vertical_flip=True,\n",
        "  preprocessing_function=preprocess_input\n",
        ")\n",
        "\n",
        "val_gen = ImageDataGenerator(\n",
        "  preprocessing_function=preprocess_input\n",
        ")"
      ],
      "execution_count": null,
      "outputs": []
    },
    {
      "cell_type": "code",
      "metadata": {
        "colab": {
          "background_save": true
        },
        "id": "dXucS9gd99Ze",
        "outputId": "669b0ce1-93e5-4872-d8b9-1c1b92de205d"
      },
      "source": [
        "# get label mapping for confusion matrix plot\n",
        "test_gen = val_gen.flow_from_directory(test_root, target_size=IMAGE_SIZE)\n",
        "print(test_gen.class_indices)\n",
        "labels = [None] * len(test_gen.class_indices)\n",
        "for k, v in test_gen.class_indices.items():\n",
        "  labels[v] = k"
      ],
      "execution_count": null,
      "outputs": [
        {
          "name": "stdout",
          "output_type": "stream",
          "text": [
            "Found 45 images belonging to 3 classes.\n",
            "{'001-018': 0, '019-065': 1, '066-110': 2}\n"
          ]
        }
      ]
    },
    {
      "cell_type": "code",
      "metadata": {
        "colab": {
          "background_save": true
        },
        "id": "PUY29QUE99Ze",
        "outputId": "9d975e2e-99e4-4846-aa40-9f28d0f56dba"
      },
      "source": [
        "# create generators\n",
        "train_generator = train_gen.flow_from_directory(\n",
        "  train_root,\n",
        "  target_size=IMAGE_SIZE,\n",
        "  shuffle=True,\n",
        "  batch_size=batch_size,\n",
        "  class_mode='sparse',\n",
        ")\n",
        "valid_generator = val_gen.flow_from_directory(\n",
        "  test_root,\n",
        "  target_size=IMAGE_SIZE,\n",
        "  shuffle=False,\n",
        "  batch_size=batch_size,\n",
        "  class_mode='sparse',\n",
        ")"
      ],
      "execution_count": null,
      "outputs": [
        {
          "name": "stdout",
          "output_type": "stream",
          "text": [
            "Found 255 images belonging to 3 classes.\n",
            "Found 45 images belonging to 3 classes.\n"
          ]
        }
      ]
    },
    {
      "cell_type": "markdown",
      "metadata": {
        "id": "WGq6B_WYN0Jf"
      },
      "source": [
        "# Training"
      ]
    },
    {
      "cell_type": "code",
      "metadata": {
        "id": "i0Qy07hi99Zf"
      },
      "source": [
        "# fit the model\n",
        "r = model.fit(\n",
        "  train_generator,\n",
        "  validation_data=valid_generator,\n",
        "  epochs=epochs,\n",
        "  steps_per_epoch=len(train_files) // batch_size,\n",
        "  validation_steps=len(test_files) // batch_size,\n",
        ")"
      ],
      "execution_count": null,
      "outputs": []
    },
    {
      "cell_type": "markdown",
      "metadata": {
        "id": "8WK0TTDvOBC9"
      },
      "source": [
        "# Training speed/quality"
      ]
    },
    {
      "cell_type": "code",
      "metadata": {
        "id": "Zz5QC1QOOJ8P"
      },
      "source": [
        "# loss\n",
        "plt.plot(r.history['loss'], label='train loss')\n",
        "if 'val_loss' in r.history:\n",
        "    plt.plot(r.history['val_loss'], label='val loss')\n",
        "plt.legend();"
      ],
      "execution_count": null,
      "outputs": []
    },
    {
      "cell_type": "code",
      "metadata": {
        "id": "iPFYO4KP99Zf"
      },
      "source": [
        "# accuracies\n",
        "plt.plot(r.history['accuracy'], label='train acc')\n",
        "if 'val_accuracy' in r.history:\n",
        "    plt.plot(r.history['val_accuracy'], label='val acc')\n",
        "plt.legend();"
      ],
      "execution_count": null,
      "outputs": []
    },
    {
      "cell_type": "markdown",
      "metadata": {
        "id": "JxlC0ZSJN3Eo"
      },
      "source": [
        "# Confusion matrix"
      ]
    },
    {
      "cell_type": "code",
      "metadata": {
        "id": "-2k8scOQOQxI"
      },
      "source": [
        "def get_confusion_matrix(data_path, N):\n",
        "  # we need to see the data in the same order\n",
        "  # for both predictions and targets\n",
        "  print(\"Generating confusion matrix\", N)\n",
        "  predictions = []\n",
        "  targets = []\n",
        "  i = 0\n",
        "  n_images = 0\n",
        "  for x, y in val_gen.flow_from_directory(\n",
        "      data_path,\n",
        "      target_size=IMAGE_SIZE,\n",
        "      shuffle=False,\n",
        "      batch_size=batch_size * 2):\n",
        "    i += 1\n",
        "    n_images += len(y)\n",
        "    if i % 50 == 0:\n",
        "      print(f'{n_images} images processed.')\n",
        "    p = model.predict(x)\n",
        "    p = np.argmax(p, axis=1)\n",
        "    y = np.argmax(y, axis=1)\n",
        "    predictions = np.concatenate((predictions, p))\n",
        "    targets = np.concatenate((targets, y))\n",
        "    if len(targets) >= N:\n",
        "      break\n",
        "\n",
        "  cm = confusion_matrix(targets, predictions)\n",
        "  return cm"
      ],
      "execution_count": null,
      "outputs": []
    },
    {
      "cell_type": "code",
      "metadata": {
        "id": "jq4VCntA99Zf"
      },
      "source": [
        "cm = get_confusion_matrix(train_root, len(train_files))\n",
        "print(cm)\n",
        "valid_cm = get_confusion_matrix(test_root, len(test_files))\n",
        "print(valid_cm)"
      ],
      "execution_count": null,
      "outputs": []
    },
    {
      "cell_type": "code",
      "metadata": {
        "id": "ErRcaAYY99Zg"
      },
      "source": [
        "def plot_confusion_matrix(cm, classes,\n",
        "                          normalize=False,\n",
        "                          title='Confusion matrix',\n",
        "                          cmap=plt.cm.Blues):\n",
        "  \"\"\"\n",
        "  This function prints and plots the confusion matrix.\n",
        "  Normalization can be applied by setting `normalize=True`.\n",
        "  \"\"\"\n",
        "  if normalize:\n",
        "      cm = cm.astype('float') / cm.sum(axis=1)[:, np.newaxis]\n",
        "      print(\"Normalized confusion matrix\")\n",
        "  else:\n",
        "      print('Confusion matrix, without normalization')\n",
        "\n",
        "  print(cm)\n",
        "\n",
        "  plt.figure(figsize=(30, 30))\n",
        "  plt.imshow(cm, interpolation='nearest', cmap=cmap)\n",
        "  plt.title(title)\n",
        "  plt.colorbar()\n",
        "  tick_marks = np.arange(len(classes))\n",
        "  plt.xticks(tick_marks, classes, rotation=45)\n",
        "  plt.yticks(tick_marks, classes)\n",
        "\n",
        "  fmt = '.2f' if normalize else 'd'\n",
        "  thresh = cm.max() / 2.\n",
        "  for i, j in itertools.product(range(cm.shape[0]), range(cm.shape[1])):\n",
        "      plt.text(j, i, format(cm[i, j], fmt),\n",
        "               horizontalalignment=\"center\",\n",
        "               color=\"white\" if cm[i, j] > thresh else \"black\")\n",
        "\n",
        "  plt.tight_layout()\n",
        "  plt.ylabel('True label')\n",
        "  plt.xlabel('Predicted label')\n",
        "  plt.show()"
      ],
      "execution_count": null,
      "outputs": []
    },
    {
      "cell_type": "code",
      "metadata": {
        "id": "Uzya3zkT99Zg"
      },
      "source": [
        "plot_confusion_matrix(cm, labels, title='Train confusion matrix')\n"
      ],
      "execution_count": null,
      "outputs": []
    },
    {
      "cell_type": "markdown",
      "metadata": {
        "id": "PtlWrB9B_eWi"
      },
      "source": [
        "# Save/load model"
      ]
    },
    {
      "cell_type": "code",
      "metadata": {
        "id": "RVwDSDEH_dQ8"
      },
      "source": [
        "#model.save('faces.h5')\n",
        "\n",
        "#model = load_model('faces.h5')"
      ],
      "execution_count": null,
      "outputs": []
    },
    {
      "cell_type": "markdown",
      "metadata": {
        "id": "K-xI_Nr8OXlE"
      },
      "source": [
        "# Testing with random images"
      ]
    },
    {
      "cell_type": "code",
      "metadata": {
        "id": "GLQ9rtgf99Zg"
      },
      "source": [
        "import requests, io, cv2\n",
        "import numpy as np\n",
        "from PIL import Image\n"
      ],
      "execution_count": null,
      "outputs": []
    },
    {
      "cell_type": "code",
      "metadata": {
        "id": "ibYX5bIo99Zg"
      },
      "source": [
        "URL = 'https://image.shutterstock.com/image-photo/health-safety-pandemic-concept-portrait-260nw-1675058503.jpg'\n",
        "response = requests.get(URL)\n",
        "bytes_im = io.BytesIO(response.content)\n",
        "cv_im = cv2.cvtColor(np.array(Image.open(bytes_im)), cv2.COLOR_RGB2BGR)\n",
        "\n",
        "IMAGE_SIZE = (100,100)\n",
        "internal_image = cv2.resize(cv_im,IMAGE_SIZE)\n",
        "internal_image = internal_image.reshape(1,IMAGE_SIZE[0], IMAGE_SIZE[1],3) \n",
        "\n",
        "\n",
        "plt.imshow(internal_image[0])"
      ],
      "execution_count": null,
      "outputs": []
    },
    {
      "cell_type": "code",
      "metadata": {
        "id": "9p6BQ2Jl99Zg"
      },
      "source": [
        "p = model.predict(internal_image)\n",
        "p = np.argmax(p)\n",
        "# pred_list = {x : float(y) for x,y in zip(labels, p[0])}\n",
        "# pred_list\n",
        "# pred_list = dict(sorted(pred_list.items(), reverse=True, key=lambda item: item[1]))\n",
        "print('Predicted age group:', labels[p])"
      ],
      "execution_count": null,
      "outputs": []
    }
  ]
}